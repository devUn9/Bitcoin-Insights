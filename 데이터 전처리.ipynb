


"cell_type": "code",
   "execution_count": 1,
   "metadata": {},
   "outputs": [],
   "source": [
    ### BTC 가격 데이터 전처리
import pandas as pd

# CSV 파일 읽기
file_path = "/content/BTC(2013-2024).csv"  # 파일 경로

# CSV 파일을 읽어오기 (Date, Price열만 선택)
df = pd.read_csv(file_path, usecols=['Date', 'Price'])

# 'Date' 열을 datetime 형식으로 변환 (형식을 '%m/%d/%Y'로 지정)
df['Date'] = pd.to_datetime(df['Date'], format='%m/%d/%Y')

# 'Date' 열을 'YYYY-MM-DD' 형식으로 변환
df['Date'] = df['Date'].dt.strftime('%Y-%m-%d')

# 변환된 결과로 'Vol.' 컬럼 업데이트
BTC_df = df.sort_values(by='Date', ascending=True)

#저장 및 데이터 확인
BTC_df.to_csv('BTC_data.csv', index=False)
print(BTC_df.head())
print(BTC_df.tail())
   ]
