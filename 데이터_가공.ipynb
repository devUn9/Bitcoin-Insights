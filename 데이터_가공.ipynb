{
 "cells": [
  {
   "cell_type": "markdown",
   "metadata": {},
   "source": [
    "## BTC 가격 데이터 전처리"
   ]
  },
  {
   "cell_type": "markdown",
   "metadata": {},
   "source": [
    "이 노트북은 비트코인 가격 데이터 (`BTC(2013-2024).csv`)를 읽어와서 전처리하는 과정을 설명합니다. 주요 과정은 다음과 같습니다:\n",
    "- CSV 파일 읽기\n",
    "- 날짜 형식 변환\n",
    "- 데이터 정렬\n",
    "- 최종적으로 새로운 CSV 파일로 저장"
   ]
  },
  {
   "cell_type": "code",
   "execution_count": 1,
   "metadata": {},
   "outputs": [],
   "source": [
    "import pandas as pd\n",
    "\n",
    "# CSV 파일 읽기\n",
    "file_path = '/content/BTC(2013-2024).csv'  # 파일 경로\n",
    "df = pd.read_csv(file_path, usecols=['Date', 'Price'])\n",
    "\n",
    "# 'Date' 열을 datetime 형식으로 변환 (형식을 '%m/%d/%Y'로 지정)\n",
    "df['Date'] = pd.to_datetime(df['Date'], format='%m/%d/%Y')\n",
    "\n",
    "# 'Date' 열을 'YYYY-MM-DD' 형식으로 변환\n",
    "df['Date'] = df['Date'].dt.strftime('%Y-%m-%d')\n",
    "\n",
    "# 변환된 결과로 'Vol.' 컬럼 업데이트\n",
    "BTC_df = df.sort_values(by='Date', ascending=True)\n",
    "\n",
    "# 저장 및 데이터 확인\n",
    "BTC_df.to_csv('BTC_data.csv', index=False)\n",
    "print(BTC_df.head())\n",
    "print(BTC_df.tail())"
   ]
  }
 ],
 "metadata": {
  "kernelspec": {
   "display_name": "Python 3",
   "language": "python",
   "name": "python3"
  },
  "language_info": {
   "codemirror_mode": {
    "name": "ipython",
    "version": 3
   },
   "file_extension": ".py",
   "mimetype": "text/x-python",
   "name": "python",
   "nbconvert_exporter": "python",
   "version": "3.8.5"
  }
 },
 "nbformat": 4,
 "nbformat_minor": 5
}
