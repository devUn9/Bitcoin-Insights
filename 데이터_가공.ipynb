{
 "cells": [
  {
   "cell_type": "markdown",
   "metadata": {},
   "source": [
    "## 데이터 가공"
   ]
  },
  {[
   "cell_type": "code",
   "execution_count": 1,
   "metadata": {},
   "outputs": [],
   "source": [
    "import pandas as pd\n",
    "file_path = "/content/BTC(2013-2024).csv\n",
    "df = pd.read_csv(file_path, usecols=['Date', 'Price']))"
   ]
  }
